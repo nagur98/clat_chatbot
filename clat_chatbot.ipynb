{
  "nbformat": 4,
  "nbformat_minor": 0,
  "metadata": {
    "colab": {
      "provenance": []
    },
    "kernelspec": {
      "name": "python3",
      "display_name": "Python 3"
    },
    "language_info": {
      "name": "python"
    }
  },
  "cells": [
    {
      "cell_type": "code",
      "execution_count": 1,
      "metadata": {
        "id": "rS3Wvr0M1rEv"
      },
      "outputs": [],
      "source": [
        "import spacy"
      ]
    },
    {
      "cell_type": "code",
      "source": [
        "nlp = spacy.load(\"en_core_web_sm\")"
      ],
      "metadata": {
        "id": "JRkw1hTw2FbW"
      },
      "execution_count": 2,
      "outputs": []
    },
    {
      "cell_type": "code",
      "source": [
        "knowledge_base = {\n",
        "    \"syllabus\": \"The CLAT 2025 syllabus includes English Language, Current Affairs including General Knowledge, Legal Reasoning, Logical Reasoning, and Quantitative Techniques.\",\n",
        "    \"english questions\": \"The English section of CLAT contains around 22-26 multiple-choice questions based on comprehension passages.\",\n",
        "    \"cut off nlsiu bangalore\": \"The CLAT 2024 cut-off for NLSIU Bangalore was around AIR 114 for the general category.\",\n",
        "    \"exam pattern\": \"The CLAT exam has 150 multiple choice questions and lasts 2 hours. Each correct answer gives 1 mark, and 0.25 marks are deducted for a wrong answer.\",\n",
        "    \"duration\": \"The duration of the CLAT exam is 2 hours.\",\n",
        "    \"marking scheme\": \"Each correct answer gives you 1 mark, and 0.25 marks are deducted for every wrong answer.\"\n",
        "}"
      ],
      "metadata": {
        "id": "OhjdJG3N2WVi"
      },
      "execution_count": 3,
      "outputs": []
    },
    {
      "cell_type": "code",
      "source": [
        "simplified_kb = {key.lower(): value for key, value in knowledge_base.items()}"
      ],
      "metadata": {
        "id": "_b03fJGm2ZE0"
      },
      "execution_count": 4,
      "outputs": []
    },
    {
      "cell_type": "code",
      "source": [
        "def find_answer(user_input):\n",
        "    doc = nlp(user_input.lower())\n",
        "    for kb_key in simplified_kb:\n",
        "        if all(word in user_input.lower() for word in kb_key.split()):\n",
        "            return simplified_kb[kb_key]\n",
        "    for token in doc:\n",
        "        for kb_key in simplified_kb:\n",
        "            if token.text in kb_key:\n",
        "                return simplified_kb[kb_key]\n",
        "    return \"Sorry, I couldn't find an answer to your question. Please try rephrasing.\""
      ],
      "metadata": {
        "id": "8whXTwt72cBO"
      },
      "execution_count": 5,
      "outputs": []
    },
    {
      "cell_type": "code",
      "source": [
        "if __name__ == \"__main__\":\n",
        "    print(\"CLATBot : Ask me anything about CLAT!\")\n",
        "    while True:\n",
        "        query = input(\"You: \")\n",
        "        if query.lower() in ['exit', 'quit', 'bye']:\n",
        "            print(\"CLATBot : Goodbye and best of luck for CLAT!\")\n",
        "            break\n",
        "        answer = find_answer(query)\n",
        "        print(\"CLATBot :\", answer)"
      ],
      "metadata": {
        "colab": {
          "base_uri": "https://localhost:8080/"
        },
        "id": "8XgRrDor3Q42",
        "outputId": "092a6d13-530d-43f8-c532-2df179aeb58b"
      },
      "execution_count": 6,
      "outputs": [
        {
          "output_type": "stream",
          "name": "stdout",
          "text": [
            "CLATBot : Ask me anything about CLAT!\n",
            "You: duration\n",
            "CLATBot : The duration of the CLAT exam is 2 hours.\n",
            "You: exit\n",
            "CLATBot : Goodbye and best of luck for CLAT!\n"
          ]
        }
      ]
    },
    {
      "cell_type": "code",
      "source": [],
      "metadata": {
        "id": "FLCDt__83auh"
      },
      "execution_count": null,
      "outputs": []
    }
  ]
}